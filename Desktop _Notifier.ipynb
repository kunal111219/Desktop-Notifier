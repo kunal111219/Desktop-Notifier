{
 "cells": [
  {
   "cell_type": "code",
   "execution_count": null,
   "id": "3c98115e",
   "metadata": {},
   "outputs": [],
   "source": [
    "# import win10toast using pip install win10toast\n",
    "import requests\n",
    "import xml.etree.ElementTree as ET\n",
    "import time\n",
    "from win10toast import ToastNotifier\n",
    "\n",
    "RSS_FEED_URL = \"http://feeds.bbci.co.uk/news/rss.xml\"\n",
    "\n",
    "def loadRSS():\n",
    "    '''Utility function to load RSS feed'''\n",
    "    resp = requests.get(RSS_FEED_URL)\n",
    "    return resp.content\n",
    "\n",
    "def parseXML(rss):\n",
    "    '''Utility function to parse XML format RSS feed'''\n",
    "    root = ET.fromstring(rss)\n",
    "    newsitems = []\n",
    "    for item in root.findall('./channel/item'):\n",
    "        news = {}\n",
    "        for child in item:\n",
    "            if child.tag == '{http://search.yahoo.com/mrss/}content':\n",
    "                news['media'] = child.attrib['url']\n",
    "            else:\n",
    "                news[child.tag] = child.text\n",
    "        newsitems.append(news)\n",
    "    return newsitems\n",
    "\n",
    "def topStories():\n",
    "    '''Main function to generate and return news items'''\n",
    "    rss = loadRSS()\n",
    "    newsitems = parseXML(rss)\n",
    "    return newsitems\n",
    "\n",
    "# Fetch news items\n",
    "newsitems = topStories()\n",
    "\n",
    "# Initialize the Windows notification system (ToastNotifier)\n",
    "toaster = ToastNotifier()\n",
    "\n",
    "# Loop through the news items and display notifications\n",
    "for newsitem in newsitems:\n",
    "    title = newsitem.get('title', 'No Title')  # No need to decode\n",
    "    description = newsitem.get('description', 'No Description')  # No need to decode\n",
    "    \n",
    "    # Show notification on screen\n",
    "    toaster.show_toast(title, description, duration=2)\n",
    "\n",
    "    # Wait for the notification to complete\n",
    "    while toaster.notification_active():\n",
    "        time.sleep(1)\n"
   ]
  },
  {
   "cell_type": "code",
   "execution_count": null,
   "id": "c7ab7a6f",
   "metadata": {},
   "outputs": [],
   "source": []
  }
 ],
 "metadata": {
  "kernelspec": {
   "display_name": "Python 3 (ipykernel)",
   "language": "python",
   "name": "python3"
  },
  "language_info": {
   "codemirror_mode": {
    "name": "ipython",
    "version": 3
   },
   "file_extension": ".py",
   "mimetype": "text/x-python",
   "name": "python",
   "nbconvert_exporter": "python",
   "pygments_lexer": "ipython3",
   "version": "3.9.13"
  }
 },
 "nbformat": 4,
 "nbformat_minor": 5
}
